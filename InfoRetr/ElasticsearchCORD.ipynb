{
  "nbformat": 4,
  "nbformat_minor": 0,
  "metadata": {
    "colab": {
      "name": "ElasticsearchCORD.ipynb",
      "provenance": [],
      "authorship_tag": "ABX9TyOeKQgxMSMMlUrCCGM+P/vX",
      "include_colab_link": true
    },
    "kernelspec": {
      "name": "python3",
      "display_name": "Python 3"
    }
  },
  "cells": [
    {
      "cell_type": "markdown",
      "metadata": {
        "id": "view-in-github",
        "colab_type": "text"
      },
      "source": [
        "<a href=\"https://colab.research.google.com/github/Kanyinsola-O/CE706/blob/main/InfoRetr/ElasticsearchCORD.ipynb\" target=\"_parent\"><img src=\"https://colab.research.google.com/assets/colab-badge.svg\" alt=\"Open In Colab\"/></a>"
      ]
    },
    {
      "cell_type": "code",
      "metadata": {
        "colab": {
          "base_uri": "https://localhost:8080/"
        },
        "id": "cP-UeiYFdHNe",
        "outputId": "0fe382b6-c0f2-4773-c33c-d5b67ad8153c"
      },
      "source": [
        "#Step 1 Import modules \r\n",
        "\r\n",
        "!pip install elasticsearch\r\n",
        "\r\n",
        "try:   \r\n",
        "    import os\r\n",
        "    import sys\r\n",
        "    import csv\r\n",
        "    \r\n",
        "    import elasticsearch\r\n",
        "    from elasticsearch import Elasticsearch \r\n",
        "    import pandas as pd\r\n",
        "    import numpy as np\r\n",
        "    \r\n",
        "    print(\"All Modules Loaded !\")\r\n",
        "except Exception as e:\r\n",
        "    print(\"Some Modules are Missing {}\".format(e))   "
      ],
      "execution_count": 1,
      "outputs": [
        {
          "output_type": "stream",
          "text": [
            "Requirement already satisfied: elasticsearch in /usr/local/lib/python3.7/dist-packages (7.11.0)\n",
            "Requirement already satisfied: certifi in /usr/local/lib/python3.7/dist-packages (from elasticsearch) (2020.12.5)\n",
            "Requirement already satisfied: urllib3<2,>=1.21.1 in /usr/local/lib/python3.7/dist-packages (from elasticsearch) (1.24.3)\n",
            "All Modules Loaded !\n"
          ],
          "name": "stdout"
        }
      ]
    },
    {
      "cell_type": "code",
      "metadata": {
        "colab": {
          "base_uri": "https://localhost:8080/"
        },
        "id": "hHR7gkDIiSZl",
        "outputId": "1d8b9c83-bcdf-4be9-c0a4-25381e327bc0"
      },
      "source": [
        "! wget https://artifacts.elastic.co/downloads/elasticsearch/elasticsearch-7.6.2-linux-x86_64.tar.gz -q\r\n",
        "! tar -xzf elasticsearch-7.6.2-linux-x86_64.tar.gz\r\n",
        "! chown -R daemon:daemon elasticsearch-7.6.2\r\n",
        "### END OF BLOCK ###\r\n",
        "\r\n",
        "import os\r\n",
        "from subprocess import Popen, PIPE, STDOUT\r\n",
        "es_server = Popen(['elasticsearch-7.6.2/bin/elasticsearch'],\r\n",
        "                   stdout=PIPE, stderr=STDOUT,\r\n",
        "                   preexec_fn=lambda: os.setuid(1)  # as daemon\r\n",
        "                  )\r\n",
        "# wait until ES has started\r\n",
        "! sleep 40\r\n",
        "!curl -X GET \"localhost:9200/\""
      ],
      "execution_count": 2,
      "outputs": [
        {
          "output_type": "stream",
          "text": [
            "{\n",
            "  \"name\" : \"56f4a0fbd750\",\n",
            "  \"cluster_name\" : \"elasticsearch\",\n",
            "  \"cluster_uuid\" : \"AkXNMrQ5SZiWKIHMju1zzQ\",\n",
            "  \"version\" : {\n",
            "    \"number\" : \"7.0.0\",\n",
            "    \"build_flavor\" : \"default\",\n",
            "    \"build_type\" : \"tar\",\n",
            "    \"build_hash\" : \"b7e28a7\",\n",
            "    \"build_date\" : \"2019-04-05T22:55:32.697037Z\",\n",
            "    \"build_snapshot\" : false,\n",
            "    \"lucene_version\" : \"8.0.0\",\n",
            "    \"minimum_wire_compatibility_version\" : \"6.7.0\",\n",
            "    \"minimum_index_compatibility_version\" : \"6.0.0-beta1\"\n",
            "  },\n",
            "  \"tagline\" : \"You Know, for Search\"\n",
            "}\n"
          ],
          "name": "stdout"
        }
      ]
    },
    {
      "cell_type": "code",
      "metadata": {
        "colab": {
          "base_uri": "https://localhost:8080/"
        },
        "id": "mFaS-B9BedOH",
        "outputId": "ff9a2eb4-42f2-4e2a-cf9a-9bd10d8d8dfe"
      },
      "source": [
        "#Step Connect to ES\r\n",
        "\r\n",
        "def connect_elasticsearch():\r\n",
        "    es = None\r\n",
        "    es = Elasticsearch([{'host': 'localhost', 'port': 9200}])\r\n",
        "    if es.ping():\r\n",
        "        print('Yupiee  Connected ')\r\n",
        "    else:\r\n",
        "        print('Awww it could not connect!')\r\n",
        "    return es\r\n",
        "es = connect_elasticsearch()"
      ],
      "execution_count": 3,
      "outputs": [
        {
          "output_type": "stream",
          "text": [
            "Yupiee  Connected \n"
          ],
          "name": "stdout"
        }
      ]
    },
    {
      "cell_type": "code",
      "metadata": {
        "colab": {
          "base_uri": "https://localhost:8080/"
        },
        "id": "UKps2qQqj46-",
        "outputId": "e447b18c-c9ef-4b68-eae0-7849b2183438"
      },
      "source": [
        "df = pd.read_csv('metadata.csv', low_memory=False)\r\n",
        "print(df.head())"
      ],
      "execution_count": 5,
      "outputs": [
        {
          "output_type": "stream",
          "text": [
            "   cord_uid  ... s2_id\n",
            "0  ug7v899j  ...   NaN\n",
            "1  02tnwd4m  ...   NaN\n",
            "2  ejv2xln0  ...   NaN\n",
            "3  2b73a28n  ...   NaN\n",
            "4  9785vg6d  ...   NaN\n",
            "\n",
            "[5 rows x 19 columns]\n"
          ],
          "name": "stdout"
        }
      ]
    }
  ]
}