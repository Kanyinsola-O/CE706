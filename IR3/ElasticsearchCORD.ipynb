{
  "nbformat": 4,
  "nbformat_minor": 0,
  "metadata": {
    "colab": {
      "name": "ElasticsearchCORD.ipynb",
      "provenance": [],
      "mount_file_id": "1_wxeoHPcMMmfjIWAFA3AbXOYRjH_Ze0w",
      "authorship_tag": "ABX9TyM1N7CnP743BJa0WdMcd4+d",
      "include_colab_link": true
    },
    "kernelspec": {
      "name": "python3",
      "display_name": "Python 3"
    }
  },
  "cells": [
    {
      "cell_type": "markdown",
      "metadata": {
        "id": "view-in-github",
        "colab_type": "text"
      },
      "source": [
        "<a href=\"https://colab.research.google.com/github/Kanyinsola-O/CE706/blob/main/IR3/ElasticsearchCORD.ipynb\" target=\"_parent\"><img src=\"https://colab.research.google.com/assets/colab-badge.svg\" alt=\"Open In Colab\"/></a>"
      ]
    },
    {
      "cell_type": "markdown",
      "metadata": {
        "id": "SiGCBun7wZww"
      },
      "source": [
        "##Importing correct modules for task"
      ]
    },
    {
      "cell_type": "code",
      "metadata": {
        "colab": {
          "base_uri": "https://localhost:8080/"
        },
        "id": "cP-UeiYFdHNe",
        "outputId": "28b5f8c7-8ed1-4c5d-9a86-d0456f9b52bc"
      },
      "source": [
        "#Step 1 Import modules \r\n",
        "\r\n",
        "!pip install elasticsearch\r\n",
        "\r\n",
        "try:   \r\n",
        "    import os\r\n",
        "    import sys\r\n",
        "    import csv\r\n",
        "    \r\n",
        "    import elasticsearch\r\n",
        "    from elasticsearch import Elasticsearch \r\n",
        "    import pandas as pd\r\n",
        "    import numpy as np\r\n",
        "    from elasticsearch import helpers\r\n",
        "    \r\n",
        "    print(\"All Modules Loaded !\")\r\n",
        "except Exception as e:\r\n",
        "    print(\"Some Modules are Missing {}\".format(e))   "
      ],
      "execution_count": 103,
      "outputs": [
        {
          "output_type": "stream",
          "text": [
            "Requirement already satisfied: elasticsearch in /usr/local/lib/python3.7/dist-packages (7.11.0)\n",
            "Requirement already satisfied: certifi in /usr/local/lib/python3.7/dist-packages (from elasticsearch) (2020.12.5)\n",
            "Requirement already satisfied: urllib3<2,>=1.21.1 in /usr/local/lib/python3.7/dist-packages (from elasticsearch) (1.24.3)\n",
            "All Modules Loaded !\n"
          ],
          "name": "stdout"
        }
      ]
    },
    {
      "cell_type": "markdown",
      "metadata": {
        "id": "3j78rDsTwgrI"
      },
      "source": [
        "##Securing relevant files "
      ]
    },
    {
      "cell_type": "code",
      "metadata": {
        "colab": {
          "base_uri": "https://localhost:8080/"
        },
        "id": "ZqeeCMaconX5",
        "outputId": "b04a02dc-818d-4c6b-d1bf-a6bd2914b1a8"
      },
      "source": [
        "from google.colab import drive\n",
        "drive.mount('/content/drive')"
      ],
      "execution_count": 104,
      "outputs": [
        {
          "output_type": "stream",
          "text": [
            "Drive already mounted at /content/drive; to attempt to forcibly remount, call drive.mount(\"/content/drive\", force_remount=True).\n"
          ],
          "name": "stdout"
        }
      ]
    },
    {
      "cell_type": "markdown",
      "metadata": {
        "id": "wU6qNrRhwy4P"
      },
      "source": [
        "##Connecting Elasticsearch to Jupyter"
      ]
    },
    {
      "cell_type": "code",
      "metadata": {
        "colab": {
          "base_uri": "https://localhost:8080/"
        },
        "id": "hHR7gkDIiSZl",
        "outputId": "8934f6c5-bd49-4921-8980-70c87e98cdaf"
      },
      "source": [
        "! wget https://artifacts.elastic.co/downloads/elasticsearch/elasticsearch-7.6.2-linux-x86_64.tar.gz -q\r\n",
        "! tar -xzf elasticsearch-7.6.2-linux-x86_64.tar.gz\r\n",
        "! chown -R daemon:daemon elasticsearch-7.6.2\r\n",
        "### END OF BLOCK ###\r\n",
        "\r\n",
        "import os\r\n",
        "from subprocess import Popen, PIPE, STDOUT\r\n",
        "es_server = Popen(['elasticsearch-7.6.2/bin/elasticsearch'],\r\n",
        "                   stdout=PIPE, stderr=STDOUT,\r\n",
        "                   preexec_fn=lambda: os.setuid(1)  # as daemon\r\n",
        "                  )\r\n",
        "# wait until ES has started\r\n",
        "! sleep 40\r\n",
        "!curl -X GET \"localhost:9200/\""
      ],
      "execution_count": 105,
      "outputs": [
        {
          "output_type": "stream",
          "text": [
            "{\n",
            "  \"name\" : \"56f4a0fbd750\",\n",
            "  \"cluster_name\" : \"elasticsearch\",\n",
            "  \"cluster_uuid\" : \"AkXNMrQ5SZiWKIHMju1zzQ\",\n",
            "  \"version\" : {\n",
            "    \"number\" : \"7.0.0\",\n",
            "    \"build_flavor\" : \"default\",\n",
            "    \"build_type\" : \"tar\",\n",
            "    \"build_hash\" : \"b7e28a7\",\n",
            "    \"build_date\" : \"2019-04-05T22:55:32.697037Z\",\n",
            "    \"build_snapshot\" : false,\n",
            "    \"lucene_version\" : \"8.0.0\",\n",
            "    \"minimum_wire_compatibility_version\" : \"6.7.0\",\n",
            "    \"minimum_index_compatibility_version\" : \"6.0.0-beta1\"\n",
            "  },\n",
            "  \"tagline\" : \"You Know, for Search\"\n",
            "}\n"
          ],
          "name": "stdout"
        }
      ]
    },
    {
      "cell_type": "code",
      "metadata": {
        "colab": {
          "base_uri": "https://localhost:8080/"
        },
        "id": "mFaS-B9BedOH",
        "outputId": "f0a755b4-ea92-4e42-c0c6-2f8e56c21b7b"
      },
      "source": [
        "#Step Connect to ES\r\n",
        "\r\n",
        "def connect_elasticsearch():\r\n",
        "    es = None\r\n",
        "    es = Elasticsearch([{'host': 'localhost', 'port': 9200}])\r\n",
        "    if es.ping():\r\n",
        "        print('Yupiee  Connected ')\r\n",
        "    else:\r\n",
        "        print('Awww it could not connect!')\r\n",
        "    return es\r\n",
        "es = connect_elasticsearch()"
      ],
      "execution_count": 106,
      "outputs": [
        {
          "output_type": "stream",
          "text": [
            "Yupiee  Connected \n"
          ],
          "name": "stdout"
        }
      ]
    },
    {
      "cell_type": "markdown",
      "metadata": {
        "id": "0xX8jqZgxBY2"
      },
      "source": [
        "##Obtaining and read the dataset"
      ]
    },
    {
      "cell_type": "code",
      "metadata": {
        "colab": {
          "base_uri": "https://localhost:8080/"
        },
        "id": "UKps2qQqj46-",
        "outputId": "d2702c38-0a34-4caf-c808-7a0c082b854e"
      },
      "source": [
        "df = pd.read_csv('metadata.csv', low_memory=False)\r\n",
        "print(df.shape)"
      ],
      "execution_count": 107,
      "outputs": [
        {
          "output_type": "stream",
          "text": [
            "(450385, 19)\n"
          ],
          "name": "stdout"
        }
      ]
    },
    {
      "cell_type": "code",
      "metadata": {
        "colab": {
          "base_uri": "https://localhost:8080/"
        },
        "id": "nXWtJ1D3xVrl",
        "outputId": "349c8c2c-ea5c-417a-c228-b495792c3c26"
      },
      "source": [
        "df.columns"
      ],
      "execution_count": 108,
      "outputs": [
        {
          "output_type": "execute_result",
          "data": {
            "text/plain": [
              "Index(['cord_uid', 'sha', 'source_x', 'title', 'doi', 'pmcid', 'pubmed_id',\n",
              "       'license', 'abstract', 'publish_time', 'authors', 'journal', 'mag_id',\n",
              "       'who_covidence_id', 'arxiv_id', 'pdf_json_files', 'pmc_json_files',\n",
              "       'url', 's2_id'],\n",
              "      dtype='object')"
            ]
          },
          "metadata": {
            "tags": []
          },
          "execution_count": 108
        }
      ]
    },
    {
      "cell_type": "code",
      "metadata": {
        "colab": {
          "base_uri": "https://localhost:8080/"
        },
        "id": "9M0xpZb4xmT2",
        "outputId": "2796589b-c85c-4162-d7d6-ddcd4ae7e96b"
      },
      "source": [
        "df.shape"
      ],
      "execution_count": 109,
      "outputs": [
        {
          "output_type": "execute_result",
          "data": {
            "text/plain": [
              "(450385, 19)"
            ]
          },
          "metadata": {
            "tags": []
          },
          "execution_count": 109
        }
      ]
    },
    {
      "cell_type": "code",
      "metadata": {
        "colab": {
          "base_uri": "https://localhost:8080/"
        },
        "id": "TlD2hbQGx98i",
        "outputId": "4fb575ab-42dd-4b8d-8cb4-190bb5e0a5bc"
      },
      "source": [
        "df[\"cord_uid\"]. nunique()"
      ],
      "execution_count": 110,
      "outputs": [
        {
          "output_type": "execute_result",
          "data": {
            "text/plain": [
              "428883"
            ]
          },
          "metadata": {
            "tags": []
          },
          "execution_count": 110
        }
      ]
    },
    {
      "cell_type": "markdown",
      "metadata": {
        "id": "dzdnrues1uFa"
      },
      "source": [
        "##Creating Elasticsearch instance"
      ]
    },
    {
      "cell_type": "code",
      "metadata": {
        "id": "pb9rpQ4uzX0M"
      },
      "source": [
        "ENDPOINT = \"http://localhost:9200/\"\r\n",
        "es = Elasticsearch(timeout=600, hosts=ENDPOINT)"
      ],
      "execution_count": 111,
      "outputs": []
    },
    {
      "cell_type": "markdown",
      "metadata": {
        "id": "lcNDKFCu3F7r"
      },
      "source": [
        "##Preprocessing data before ES upload"
      ]
    },
    {
      "cell_type": "code",
      "metadata": {
        "id": "M0zKSnwI3Aq1"
      },
      "source": [
        "#df.isna().sum()"
      ],
      "execution_count": 112,
      "outputs": []
    },
    {
      "cell_type": "code",
      "metadata": {
        "id": "eOs8VY_Z3_D2"
      },
      "source": [
        "#df= df.dropna()"
      ],
      "execution_count": 113,
      "outputs": []
    },
    {
      "cell_type": "code",
      "metadata": {
        "colab": {
          "base_uri": "https://localhost:8080/"
        },
        "id": "ol420PyU5vwC",
        "outputId": "65c49016-6c05-4c6e-f226-899b5f337724"
      },
      "source": [
        "df.shape"
      ],
      "execution_count": 114,
      "outputs": [
        {
          "output_type": "execute_result",
          "data": {
            "text/plain": [
              "(450385, 19)"
            ]
          },
          "metadata": {
            "tags": []
          },
          "execution_count": 114
        }
      ]
    },
    {
      "cell_type": "code",
      "metadata": {
        "id": "QNk3Uj7Z54yh"
      },
      "source": [
        "df2 = df.to_dict('records')"
      ],
      "execution_count": 115,
      "outputs": []
    },
    {
      "cell_type": "markdown",
      "metadata": {
        "id": "A1q5MTO656a3"
      },
      "source": [
        "##Conversion of data to one appropiate for ES"
      ]
    },
    {
      "cell_type": "markdown",
      "metadata": {
        "id": "D1CTk7-_8PvM"
      },
      "source": [
        "##ELK Formatting"
      ]
    },
    {
      "cell_type": "code",
      "metadata": {
        "colab": {
          "base_uri": "https://localhost:8080/",
          "height": 271
        },
        "id": "VxhDICBpHOaP",
        "outputId": "93870e89-5201-4eb9-a9cf-8aca3680e8f1"
      },
      "source": [
        "df.head(2)"
      ],
      "execution_count": 116,
      "outputs": [
        {
          "output_type": "execute_result",
          "data": {
            "text/html": [
              "<div>\n",
              "<style scoped>\n",
              "    .dataframe tbody tr th:only-of-type {\n",
              "        vertical-align: middle;\n",
              "    }\n",
              "\n",
              "    .dataframe tbody tr th {\n",
              "        vertical-align: top;\n",
              "    }\n",
              "\n",
              "    .dataframe thead th {\n",
              "        text-align: right;\n",
              "    }\n",
              "</style>\n",
              "<table border=\"1\" class=\"dataframe\">\n",
              "  <thead>\n",
              "    <tr style=\"text-align: right;\">\n",
              "      <th></th>\n",
              "      <th>cord_uid</th>\n",
              "      <th>sha</th>\n",
              "      <th>source_x</th>\n",
              "      <th>title</th>\n",
              "      <th>doi</th>\n",
              "      <th>pmcid</th>\n",
              "      <th>pubmed_id</th>\n",
              "      <th>license</th>\n",
              "      <th>abstract</th>\n",
              "      <th>publish_time</th>\n",
              "      <th>authors</th>\n",
              "      <th>journal</th>\n",
              "      <th>mag_id</th>\n",
              "      <th>who_covidence_id</th>\n",
              "      <th>arxiv_id</th>\n",
              "      <th>pdf_json_files</th>\n",
              "      <th>pmc_json_files</th>\n",
              "      <th>url</th>\n",
              "      <th>s2_id</th>\n",
              "    </tr>\n",
              "  </thead>\n",
              "  <tbody>\n",
              "    <tr>\n",
              "      <th>0</th>\n",
              "      <td>ug7v899j</td>\n",
              "      <td>d1aafb70c066a2068b02786f8929fd9c900897fb</td>\n",
              "      <td>PMC</td>\n",
              "      <td>Clinical features of culture-proven Mycoplasma...</td>\n",
              "      <td>10.1186/1471-2334-1-6</td>\n",
              "      <td>PMC35282</td>\n",
              "      <td>11472636</td>\n",
              "      <td>no-cc</td>\n",
              "      <td>OBJECTIVE: This retrospective chart review des...</td>\n",
              "      <td>2001-07-04</td>\n",
              "      <td>Madani, Tariq A; Al-Ghamdi, Aisha A</td>\n",
              "      <td>BMC Infect Dis</td>\n",
              "      <td>NaN</td>\n",
              "      <td>NaN</td>\n",
              "      <td>NaN</td>\n",
              "      <td>document_parses/pdf_json/d1aafb70c066a2068b027...</td>\n",
              "      <td>document_parses/pmc_json/PMC35282.xml.json</td>\n",
              "      <td>https://www.ncbi.nlm.nih.gov/pmc/articles/PMC3...</td>\n",
              "      <td>NaN</td>\n",
              "    </tr>\n",
              "    <tr>\n",
              "      <th>1</th>\n",
              "      <td>02tnwd4m</td>\n",
              "      <td>6b0567729c2143a66d737eb0a2f63f2dce2e5a7d</td>\n",
              "      <td>PMC</td>\n",
              "      <td>Nitric oxide: a pro-inflammatory mediator in l...</td>\n",
              "      <td>10.1186/rr14</td>\n",
              "      <td>PMC59543</td>\n",
              "      <td>11667967</td>\n",
              "      <td>no-cc</td>\n",
              "      <td>Inflammatory diseases of the respiratory tract...</td>\n",
              "      <td>2000-08-15</td>\n",
              "      <td>Vliet, Albert van der; Eiserich, Jason P; Cros...</td>\n",
              "      <td>Respir Res</td>\n",
              "      <td>NaN</td>\n",
              "      <td>NaN</td>\n",
              "      <td>NaN</td>\n",
              "      <td>document_parses/pdf_json/6b0567729c2143a66d737...</td>\n",
              "      <td>document_parses/pmc_json/PMC59543.xml.json</td>\n",
              "      <td>https://www.ncbi.nlm.nih.gov/pmc/articles/PMC5...</td>\n",
              "      <td>NaN</td>\n",
              "    </tr>\n",
              "  </tbody>\n",
              "</table>\n",
              "</div>"
            ],
            "text/plain": [
              "   cord_uid  ... s2_id\n",
              "0  ug7v899j  ...   NaN\n",
              "1  02tnwd4m  ...   NaN\n",
              "\n",
              "[2 rows x 19 columns]"
            ]
          },
          "metadata": {
            "tags": []
          },
          "execution_count": 116
        }
      ]
    },
    {
      "cell_type": "code",
      "metadata": {
        "colab": {
          "base_uri": "https://localhost:8080/"
        },
        "id": "_MODK67JHV-q",
        "outputId": "f1cb1b10-e4dd-48ad-879a-3f3b10f26954"
      },
      "source": [
        "df.columns"
      ],
      "execution_count": 117,
      "outputs": [
        {
          "output_type": "execute_result",
          "data": {
            "text/plain": [
              "Index(['cord_uid', 'sha', 'source_x', 'title', 'doi', 'pmcid', 'pubmed_id',\n",
              "       'license', 'abstract', 'publish_time', 'authors', 'journal', 'mag_id',\n",
              "       'who_covidence_id', 'arxiv_id', 'pdf_json_files', 'pmc_json_files',\n",
              "       'url', 's2_id'],\n",
              "      dtype='object')"
            ]
          },
          "metadata": {
            "tags": []
          },
          "execution_count": 117
        }
      ]
    },
    {
      "cell_type": "code",
      "metadata": {
        "id": "D1mMcPhdGnRB"
      },
      "source": [
        "def generator(df2):\r\n",
        "    for c, line in enumerate(df2):\r\n",
        "        yield {\r\n",
        "    '_index': 'cord',\r\n",
        "    '_type': '_doc',\r\n",
        "    '_id': c,\r\n",
        "    '_source': {\r\n",
        "        'cord_uid':line.get(\"cord_uid\", \"\"),\r\n",
        "      \r\n",
        "    }\r\n",
        "        }\r\n",
        "    raise StopIteration"
      ],
      "execution_count": 118,
      "outputs": []
    },
    {
      "cell_type": "code",
      "metadata": {
        "id": "H5Nw0zb3IIZl"
      },
      "source": [
        "df2 = df.to_dict('records')"
      ],
      "execution_count": 119,
      "outputs": []
    },
    {
      "cell_type": "code",
      "metadata": {
        "id": "HVQeNHTYIMgF"
      },
      "source": [
        "mygen = generator(df2)"
      ],
      "execution_count": 120,
      "outputs": []
    },
    {
      "cell_type": "code",
      "metadata": {
        "colab": {
          "base_uri": "https://localhost:8080/"
        },
        "id": "zkl6NIurIdh5",
        "outputId": "7542e2d5-3dc6-406f-e0d6-c0a1acdaf8c5"
      },
      "source": [
        "mygen"
      ],
      "execution_count": 121,
      "outputs": [
        {
          "output_type": "execute_result",
          "data": {
            "text/plain": [
              "<generator object generator at 0x7f67b7dde8d0>"
            ]
          },
          "metadata": {
            "tags": []
          },
          "execution_count": 121
        }
      ]
    },
    {
      "cell_type": "code",
      "metadata": {
        "colab": {
          "base_uri": "https://localhost:8080/"
        },
        "id": "RIvshFK8InQa",
        "outputId": "0ba29c2b-5fec-42c1-e65e-672940429051"
      },
      "source": [
        "next(mygen)"
      ],
      "execution_count": 122,
      "outputs": [
        {
          "output_type": "execute_result",
          "data": {
            "text/plain": [
              "{'_id': 0,\n",
              " '_index': 'cord',\n",
              " '_source': {'cord_uid': 'ug7v899j'},\n",
              " '_type': '_doc'}"
            ]
          },
          "metadata": {
            "tags": []
          },
          "execution_count": 122
        }
      ]
    },
    {
      "cell_type": "markdown",
      "metadata": {
        "id": "m6VbWQwYJSes"
      },
      "source": [
        "#"
      ]
    },
    {
      "cell_type": "code",
      "metadata": {
        "colab": {
          "base_uri": "https://localhost:8080/"
        },
        "id": "6aKF75hbJa-T",
        "outputId": "3b2dd522-fd57-49b0-a012-7950f5934f21"
      },
      "source": [
        "es.ping()"
      ],
      "execution_count": 124,
      "outputs": [
        {
          "output_type": "execute_result",
          "data": {
            "text/plain": [
              "True"
            ]
          },
          "metadata": {
            "tags": []
          },
          "execution_count": 124
        }
      ]
    },
    {
      "cell_type": "code",
      "metadata": {
        "colab": {
          "base_uri": "https://localhost:8080/"
        },
        "id": "75Df5vnGIyxD",
        "outputId": "9f752a8b-0480-4f51-c842-8f1b04be0df6"
      },
      "source": [
        "#try:\r\n",
        "    res = helpers.bulk(es, generator(df2))\r\n",
        "    print(\"Working\")\r\n",
        "except Exception as e:\r\n",
        "    pass"
      ],
      "execution_count": 125,
      "outputs": [
        {
          "output_type": "stream",
          "text": [
            "/usr/local/lib/python3.7/dist-packages/elasticsearch/connection/base.py:200: ElasticsearchWarning: [types removal] Specifying types in bulk requests is deprecated.\n",
            "  warnings.warn(message, category=ElasticsearchWarning)\n"
          ],
          "name": "stderr"
        }
      ]
    },
    {
      "cell_type": "code",
      "metadata": {
        "id": "LmH00Bfn5oRU"
      },
      "source": [
        "#df.isna().sum()"
      ],
      "execution_count": 126,
      "outputs": []
    },
    {
      "cell_type": "markdown",
      "metadata": {
        "id": "1eLB6Da_7sY-"
      },
      "source": [
        ""
      ]
    },
    {
      "cell_type": "markdown",
      "metadata": {
        "id": "Uh3y4ETIvvWe"
      },
      "source": [
        "##Creating an Index "
      ]
    },
    {
      "cell_type": "code",
      "metadata": {
        "id": "asUo2Wl7u-KD"
      },
      "source": [
        "#es.indices.create(index='test-index', ignore=400)\r\n",
        "#es.indices.create(index='test-index1', ignore=400)"
      ],
      "execution_count": 131,
      "outputs": []
    },
    {
      "cell_type": "code",
      "metadata": {
        "colab": {
          "base_uri": "https://localhost:8080/"
        },
        "id": "cwGG-A4ZiTae",
        "outputId": "ad5be7cb-456d-493a-bce7-2ef271de9ed2"
      },
      "source": [
        "try:\r\n",
        "    import elasticsearch\r\n",
        "\r\n",
        "    from elasticsearch import Elasticsearch\r\n",
        "    from elasticsearch import helpers\r\n",
        "\r\n",
        "    import pandas as pd\r\n",
        "    import json\r\n",
        "\r\n",
        "    import datetime\r\n",
        "    import os\r\n",
        "    import sys\r\n",
        "\r\n",
        "    import os\r\n",
        "    import numpy as np\r\n",
        "\r\n",
        "    print(\"Loaded  .. . . . . . . .\")\r\n",
        "except Exception as E:\r\n",
        "    print(\"Some Modules are Missing {} \".format(e))\r\n",
        "\r\n",
        "class Reader(object):\r\n",
        "\r\n",
        "    def __init__(self,filename,size, indexName='cords'):\r\n",
        "        self.filename=filename\r\n",
        "        self.size=size\r\n",
        "        self.indexName =indexName\r\n",
        "\r\n",
        "    def process(self):\r\n",
        "        df = pd.read_csv(self.filename, chunksize=self.size)\r\n",
        "        df = next(df)\r\n",
        "        df2 = df.to_dict(\"records\")\r\n",
        "        df2 = self.removeNan(df2=df2)\r\n",
        "        return df2\r\n",
        "\r\n",
        "    def create_columns(self, record, column_name):\r\n",
        "        value = record.get(column_name, \"\").__str__()\r\n",
        "        if len(column_name) == 0 or column_name == \"\": value = \"\"\r\n",
        "        if 'nan' in value: value = \"\"\r\n",
        "\r\n",
        "        return value\r\n",
        "\r\n",
        "    def removeNan(self, df2):\r\n",
        "        records = []\r\n",
        "        for c, x in enumerate(df2):\r\n",
        "            jsonRecord = {}\r\n",
        "            jsonRecord['cord_uid']          = self.create_columns(record=x, column_name='cord_uid')\r\n",
        "            jsonRecord['sha']               = self.create_columns(record=x, column_name='sha')\r\n",
        "            jsonRecord['source_x']          =self.create_columns(record=x, column_name='source_x')\r\n",
        "            jsonRecord['title']             =self.create_columns(record=x, column_name='title')\r\n",
        "            jsonRecord['doi']               =self.create_columns(record=x, column_name='doi')\r\n",
        "            jsonRecord['pmcid']             =self.create_columns(record=x, column_name='pmcid')\r\n",
        "            jsonRecord['pubmed_id']         =self.create_columns(record=x, column_name='pubmed_id')\r\n",
        "            jsonRecord['license']           =self.create_columns(record=x, column_name='license')\r\n",
        "            jsonRecord['abstract']          =self.create_columns(record=x, column_name='abstract')\r\n",
        "            jsonRecord['publish_time']      =self.create_columns(record=x, column_name='publish_time')\r\n",
        "            jsonRecord['authors']           =self.create_columns(record=x, column_name='authors')\r\n",
        "            jsonRecord['journal']           =self.create_columns(record=x, column_name='journal')\r\n",
        "            jsonRecord['mag_id']            =self.create_columns(record=x, column_name='mag_id')\r\n",
        "            jsonRecord['who_covidence_id']  =self.create_columns(record=x, column_name='who_covidence_id')\r\n",
        "            jsonRecord['arxiv_id']          =self.create_columns(record=x, column_name='arxiv_id')\r\n",
        "            jsonRecord['pdf_json_files']    =self.create_columns(record=x, column_name='pdf_json_files')\r\n",
        "            jsonRecord['pmc_json_files']    =self.create_columns(record=x, column_name='pmc_json_files')\r\n",
        "            jsonRecord['url']               =self.create_columns(record=x, column_name='url')\r\n",
        "            jsonRecord['s2_id']             =self.create_columns(record=x, column_name='s2_id')\r\n",
        "            json_elk_format = {\r\n",
        "                '_index': self.indexName,\r\n",
        "                '_type': '_doc',\r\n",
        "                '_id': c,\r\n",
        "                '_source': jsonRecord\r\n",
        "            }\r\n",
        "            records.append(json_elk_format)\r\n",
        "        return records\r\n",
        "\r\n",
        "\r\n",
        "def main():\r\n",
        "\r\n",
        "    _helper = Reader(filename='metadata.csv', size=1000, indexName='cords')\r\n",
        "    _data = _helper.process()\r\n",
        "\r\n",
        "    ENDPOINT = \"http://localhost:9200/\"\r\n",
        "    es = Elasticsearch(timeout=600,hosts=ENDPOINT)\r\n",
        "\r\n",
        "    try:\r\n",
        "        res = helpers.bulk(es, _data)\r\n",
        "    except Exception as e:\r\n",
        "        pass\r\n",
        "    print('done')\r\n",
        "\r\n",
        "\r\n",
        "main()\r\n",
        "\r\n"
      ],
      "execution_count": 130,
      "outputs": [
        {
          "output_type": "stream",
          "text": [
            "Loaded  .. . . . . . . .\n"
          ],
          "name": "stdout"
        },
        {
          "output_type": "stream",
          "text": [
            "/usr/local/lib/python3.7/dist-packages/elasticsearch/connection/base.py:200: ElasticsearchWarning: [types removal] Specifying types in bulk requests is deprecated.\n",
            "  warnings.warn(message, category=ElasticsearchWarning)\n"
          ],
          "name": "stderr"
        },
        {
          "output_type": "stream",
          "text": [
            "done\n"
          ],
          "name": "stdout"
        }
      ]
    },
    {
      "cell_type": "code",
      "metadata": {
        "id": "jDUt7s5JiU_2"
      },
      "source": [
        ""
      ],
      "execution_count": 128,
      "outputs": []
    },
    {
      "cell_type": "code",
      "metadata": {
        "id": "oyplFtpRiVdZ"
      },
      "source": [
        ""
      ],
      "execution_count": 128,
      "outputs": []
    }
  ]
}