{
  "nbformat": 4,
  "nbformat_minor": 0,
  "metadata": {
    "colab": {
      "name": "ElasticsearchCORD.ipynb",
      "provenance": [],
      "collapsed_sections": [],
      "mount_file_id": "1_wxeoHPcMMmfjIWAFA3AbXOYRjH_Ze0w",
      "authorship_tag": "ABX9TyPsFrxy9PIdlBUVFLGw46n4",
      "include_colab_link": true
    },
    "kernelspec": {
      "name": "python3",
      "display_name": "Python 3"
    }
  },
  "cells": [
    {
      "cell_type": "markdown",
      "metadata": {
        "id": "view-in-github",
        "colab_type": "text"
      },
      "source": [
        "<a href=\"https://colab.research.google.com/github/Kanyinsola-O/CE706/blob/main/InfoRetrieFinal_ElasticsearchCORD.ipynb\" target=\"_parent\"><img src=\"https://colab.research.google.com/assets/colab-badge.svg\" alt=\"Open In Colab\"/></a>"
      ]
    },
    {
      "cell_type": "markdown",
      "metadata": {
        "id": "SiGCBun7wZww"
      },
      "source": [
        "##Importing correct modules for task"
      ]
    },
    {
      "cell_type": "code",
      "metadata": {
        "colab": {
          "base_uri": "https://localhost:8080/"
        },
        "id": "cP-UeiYFdHNe",
        "outputId": "bc7ea09c-8c61-424e-aeec-0acfe76688ba"
      },
      "source": [
        "#Step 1 Import modules \r\n",
        "\r\n",
        "!pip install elasticsearch\r\n",
        "\r\n",
        "try:   \r\n",
        "    import os\r\n",
        "    import sys\r\n",
        "    import csv\r\n",
        "    \r\n",
        "    import elasticsearch\r\n",
        "    from elasticsearch import Elasticsearch \r\n",
        "    import pandas as pd\r\n",
        "    import numpy as np\r\n",
        "    from elasticsearch import helpers\r\n",
        "    \r\n",
        "    print(\"All Modules Loaded !\")\r\n",
        "except Exception as e:\r\n",
        "    print(\"Some Modules are Missing {}\".format(e))   "
      ],
      "execution_count": 29,
      "outputs": [
        {
          "output_type": "stream",
          "text": [
            "Requirement already satisfied: elasticsearch in /usr/local/lib/python3.7/dist-packages (7.11.0)\n",
            "Requirement already satisfied: certifi in /usr/local/lib/python3.7/dist-packages (from elasticsearch) (2020.12.5)\n",
            "Requirement already satisfied: urllib3<2,>=1.21.1 in /usr/local/lib/python3.7/dist-packages (from elasticsearch) (1.24.3)\n",
            "All Modules Loaded !\n"
          ],
          "name": "stdout"
        }
      ]
    },
    {
      "cell_type": "markdown",
      "metadata": {
        "id": "3j78rDsTwgrI"
      },
      "source": [
        "##Securing relevant files for codes to work"
      ]
    },
    {
      "cell_type": "code",
      "metadata": {
        "colab": {
          "base_uri": "https://localhost:8080/"
        },
        "id": "ZqeeCMaconX5",
        "outputId": "5173cc6a-d5b3-4c04-c218-29a1d9c7b63f"
      },
      "source": [
        "from google.colab import drive\n",
        "drive.mount('/content/drive')"
      ],
      "execution_count": 30,
      "outputs": [
        {
          "output_type": "stream",
          "text": [
            "Drive already mounted at /content/drive; to attempt to forcibly remount, call drive.mount(\"/content/drive\", force_remount=True).\n"
          ],
          "name": "stdout"
        }
      ]
    },
    {
      "cell_type": "markdown",
      "metadata": {
        "id": "0OrVPLa7BdUq"
      },
      "source": [
        "##Downloading Elasticsearch to python "
      ]
    },
    {
      "cell_type": "code",
      "metadata": {
        "colab": {
          "base_uri": "https://localhost:8080/"
        },
        "id": "hHR7gkDIiSZl",
        "outputId": "40ffc6ff-db78-4a0b-864b-745aef5d68af"
      },
      "source": [
        "! wget https://artifacts.elastic.co/downloads/elasticsearch/elasticsearch-7.6.2-linux-x86_64.tar.gz -q\r\n",
        "! tar -xzf elasticsearch-7.6.2-linux-x86_64.tar.gz\r\n",
        "! chown -R daemon:daemon elasticsearch-7.6.2\r\n",
        "### END OF BLOCK ###\r\n",
        "\r\n",
        "import os\r\n",
        "from subprocess import Popen, PIPE, STDOUT\r\n",
        "es_server = Popen(['elasticsearch-7.6.2/bin/elasticsearch'],\r\n",
        "                   stdout=PIPE, stderr=STDOUT,\r\n",
        "                   preexec_fn=lambda: os.setuid(1)  # as daemon\r\n",
        "                  )\r\n",
        "# wait until ES has started\r\n",
        "! sleep 40\r\n",
        "!curl -X GET \"localhost:9200/\""
      ],
      "execution_count": 31,
      "outputs": [
        {
          "output_type": "stream",
          "text": [
            "{\n",
            "  \"name\" : \"08caee6026e7\",\n",
            "  \"cluster_name\" : \"elasticsearch\",\n",
            "  \"cluster_uuid\" : \"lKxAxFkYREmvALUab9lLTA\",\n",
            "  \"version\" : {\n",
            "    \"number\" : \"7.6.2\",\n",
            "    \"build_flavor\" : \"default\",\n",
            "    \"build_type\" : \"tar\",\n",
            "    \"build_hash\" : \"ef48eb35cf30adf4db14086e8aabd07ef6fb113f\",\n",
            "    \"build_date\" : \"2020-03-26T06:34:37.794943Z\",\n",
            "    \"build_snapshot\" : false,\n",
            "    \"lucene_version\" : \"8.4.0\",\n",
            "    \"minimum_wire_compatibility_version\" : \"6.8.0\",\n",
            "    \"minimum_index_compatibility_version\" : \"6.0.0-beta1\"\n",
            "  },\n",
            "  \"tagline\" : \"You Know, for Search\"\n",
            "}\n"
          ],
          "name": "stdout"
        }
      ]
    },
    {
      "cell_type": "markdown",
      "metadata": {
        "id": "dAEK_XGuBlEb"
      },
      "source": [
        "##Connecting notebook to elasticsearch local server"
      ]
    },
    {
      "cell_type": "code",
      "metadata": {
        "colab": {
          "base_uri": "https://localhost:8080/"
        },
        "id": "mFaS-B9BedOH",
        "outputId": "39336edc-5b9a-4c20-b1e4-91e8e83d192f"
      },
      "source": [
        "#Step Connect to ES\r\n",
        "\r\n",
        "def connect_elasticsearch():\r\n",
        "    es = None\r\n",
        "    es = Elasticsearch([{'host': 'localhost', 'port': 9200}])\r\n",
        "    if es.ping():\r\n",
        "        print('Yupiee  Connected ')\r\n",
        "    else:\r\n",
        "        print('Awww it could not connect!')\r\n",
        "    return es\r\n",
        "es = connect_elasticsearch()"
      ],
      "execution_count": 32,
      "outputs": [
        {
          "output_type": "stream",
          "text": [
            "Yupiee  Connected \n"
          ],
          "name": "stdout"
        }
      ]
    },
    {
      "cell_type": "markdown",
      "metadata": {
        "id": "0xX8jqZgxBY2"
      },
      "source": [
        "##Obtaining and read the dataset"
      ]
    },
    {
      "cell_type": "code",
      "metadata": {
        "colab": {
          "base_uri": "https://localhost:8080/"
        },
        "id": "UKps2qQqj46-",
        "outputId": "bd2a40d3-fd1f-4701-fa04-a8d892f000d9"
      },
      "source": [
        "df = pd.read_csv('metadata.csv', low_memory=False)\r\n",
        "print(df.shape)"
      ],
      "execution_count": 33,
      "outputs": [
        {
          "output_type": "stream",
          "text": [
            "(450385, 19)\n"
          ],
          "name": "stdout"
        }
      ]
    },
    {
      "cell_type": "code",
      "metadata": {
        "colab": {
          "base_uri": "https://localhost:8080/"
        },
        "id": "nXWtJ1D3xVrl",
        "outputId": "fc053968-42fc-4d5e-8b4b-ba3509d0ce76"
      },
      "source": [
        "df.columns"
      ],
      "execution_count": 34,
      "outputs": [
        {
          "output_type": "execute_result",
          "data": {
            "text/plain": [
              "Index(['cord_uid', 'sha', 'source_x', 'title', 'doi', 'pmcid', 'pubmed_id',\n",
              "       'license', 'abstract', 'publish_time', 'authors', 'journal', 'mag_id',\n",
              "       'who_covidence_id', 'arxiv_id', 'pdf_json_files', 'pmc_json_files',\n",
              "       'url', 's2_id'],\n",
              "      dtype='object')"
            ]
          },
          "metadata": {
            "tags": []
          },
          "execution_count": 34
        }
      ]
    },
    {
      "cell_type": "code",
      "metadata": {
        "colab": {
          "base_uri": "https://localhost:8080/"
        },
        "id": "9M0xpZb4xmT2",
        "outputId": "49a2855c-069d-42e0-a3d7-ab55da50766c"
      },
      "source": [
        "df.shape"
      ],
      "execution_count": 35,
      "outputs": [
        {
          "output_type": "execute_result",
          "data": {
            "text/plain": [
              "(450385, 19)"
            ]
          },
          "metadata": {
            "tags": []
          },
          "execution_count": 35
        }
      ]
    },
    {
      "cell_type": "code",
      "metadata": {
        "colab": {
          "base_uri": "https://localhost:8080/"
        },
        "id": "TlD2hbQGx98i",
        "outputId": "6bfe273a-5b34-468d-8ed8-83d8e752d1a1"
      },
      "source": [
        "df[\"cord_uid\"]. nunique()"
      ],
      "execution_count": 36,
      "outputs": [
        {
          "output_type": "execute_result",
          "data": {
            "text/plain": [
              "428883"
            ]
          },
          "metadata": {
            "tags": []
          },
          "execution_count": 36
        }
      ]
    },
    {
      "cell_type": "markdown",
      "metadata": {
        "id": "dzdnrues1uFa"
      },
      "source": [
        "##Creating Elasticsearch instance"
      ]
    },
    {
      "cell_type": "code",
      "metadata": {
        "id": "pb9rpQ4uzX0M"
      },
      "source": [
        "ENDPOINT = \"http://localhost:9200/\"\r\n",
        "es = Elasticsearch(timeout=600, hosts=ENDPOINT)"
      ],
      "execution_count": 37,
      "outputs": []
    },
    {
      "cell_type": "markdown",
      "metadata": {
        "id": "lcNDKFCu3F7r"
      },
      "source": [
        "##Preprocessing data before ES upload"
      ]
    },
    {
      "cell_type": "code",
      "metadata": {
        "colab": {
          "base_uri": "https://localhost:8080/"
        },
        "id": "_MODK67JHV-q",
        "outputId": "9ee9f3f0-f2b9-441d-bda6-a325de699d21"
      },
      "source": [
        "df.columns"
      ],
      "execution_count": 43,
      "outputs": [
        {
          "output_type": "execute_result",
          "data": {
            "text/plain": [
              "Index(['cord_uid', 'sha', 'source_x', 'title', 'doi', 'pmcid', 'pubmed_id',\n",
              "       'license', 'abstract', 'publish_time', 'authors', 'journal', 'mag_id',\n",
              "       'who_covidence_id', 'arxiv_id', 'pdf_json_files', 'pmc_json_files',\n",
              "       'url', 's2_id'],\n",
              "      dtype='object')"
            ]
          },
          "metadata": {
            "tags": []
          },
          "execution_count": 43
        }
      ]
    },
    {
      "cell_type": "code",
      "metadata": {
        "colab": {
          "base_uri": "https://localhost:8080/",
          "height": 271
        },
        "id": "VxhDICBpHOaP",
        "outputId": "17d7d94c-e0b3-435d-c611-aed24575ca8c"
      },
      "source": [
        "df.head(2)"
      ],
      "execution_count": 42,
      "outputs": [
        {
          "output_type": "execute_result",
          "data": {
            "text/html": [
              "<div>\n",
              "<style scoped>\n",
              "    .dataframe tbody tr th:only-of-type {\n",
              "        vertical-align: middle;\n",
              "    }\n",
              "\n",
              "    .dataframe tbody tr th {\n",
              "        vertical-align: top;\n",
              "    }\n",
              "\n",
              "    .dataframe thead th {\n",
              "        text-align: right;\n",
              "    }\n",
              "</style>\n",
              "<table border=\"1\" class=\"dataframe\">\n",
              "  <thead>\n",
              "    <tr style=\"text-align: right;\">\n",
              "      <th></th>\n",
              "      <th>cord_uid</th>\n",
              "      <th>sha</th>\n",
              "      <th>source_x</th>\n",
              "      <th>title</th>\n",
              "      <th>doi</th>\n",
              "      <th>pmcid</th>\n",
              "      <th>pubmed_id</th>\n",
              "      <th>license</th>\n",
              "      <th>abstract</th>\n",
              "      <th>publish_time</th>\n",
              "      <th>authors</th>\n",
              "      <th>journal</th>\n",
              "      <th>mag_id</th>\n",
              "      <th>who_covidence_id</th>\n",
              "      <th>arxiv_id</th>\n",
              "      <th>pdf_json_files</th>\n",
              "      <th>pmc_json_files</th>\n",
              "      <th>url</th>\n",
              "      <th>s2_id</th>\n",
              "    </tr>\n",
              "  </thead>\n",
              "  <tbody>\n",
              "    <tr>\n",
              "      <th>0</th>\n",
              "      <td>ug7v899j</td>\n",
              "      <td>d1aafb70c066a2068b02786f8929fd9c900897fb</td>\n",
              "      <td>PMC</td>\n",
              "      <td>Clinical features of culture-proven Mycoplasma...</td>\n",
              "      <td>10.1186/1471-2334-1-6</td>\n",
              "      <td>PMC35282</td>\n",
              "      <td>11472636</td>\n",
              "      <td>no-cc</td>\n",
              "      <td>OBJECTIVE: This retrospective chart review des...</td>\n",
              "      <td>2001-07-04</td>\n",
              "      <td>Madani, Tariq A; Al-Ghamdi, Aisha A</td>\n",
              "      <td>BMC Infect Dis</td>\n",
              "      <td>NaN</td>\n",
              "      <td>NaN</td>\n",
              "      <td>NaN</td>\n",
              "      <td>document_parses/pdf_json/d1aafb70c066a2068b027...</td>\n",
              "      <td>document_parses/pmc_json/PMC35282.xml.json</td>\n",
              "      <td>https://www.ncbi.nlm.nih.gov/pmc/articles/PMC3...</td>\n",
              "      <td>NaN</td>\n",
              "    </tr>\n",
              "    <tr>\n",
              "      <th>1</th>\n",
              "      <td>02tnwd4m</td>\n",
              "      <td>6b0567729c2143a66d737eb0a2f63f2dce2e5a7d</td>\n",
              "      <td>PMC</td>\n",
              "      <td>Nitric oxide: a pro-inflammatory mediator in l...</td>\n",
              "      <td>10.1186/rr14</td>\n",
              "      <td>PMC59543</td>\n",
              "      <td>11667967</td>\n",
              "      <td>no-cc</td>\n",
              "      <td>Inflammatory diseases of the respiratory tract...</td>\n",
              "      <td>2000-08-15</td>\n",
              "      <td>Vliet, Albert van der; Eiserich, Jason P; Cros...</td>\n",
              "      <td>Respir Res</td>\n",
              "      <td>NaN</td>\n",
              "      <td>NaN</td>\n",
              "      <td>NaN</td>\n",
              "      <td>document_parses/pdf_json/6b0567729c2143a66d737...</td>\n",
              "      <td>document_parses/pmc_json/PMC59543.xml.json</td>\n",
              "      <td>https://www.ncbi.nlm.nih.gov/pmc/articles/PMC5...</td>\n",
              "      <td>NaN</td>\n",
              "    </tr>\n",
              "  </tbody>\n",
              "</table>\n",
              "</div>"
            ],
            "text/plain": [
              "   cord_uid  ... s2_id\n",
              "0  ug7v899j  ...   NaN\n",
              "1  02tnwd4m  ...   NaN\n",
              "\n",
              "[2 rows x 19 columns]"
            ]
          },
          "metadata": {
            "tags": []
          },
          "execution_count": 42
        }
      ]
    },
    {
      "cell_type": "code",
      "metadata": {
        "colab": {
          "base_uri": "https://localhost:8080/"
        },
        "id": "ol420PyU5vwC",
        "outputId": "367382fb-47b9-4d65-980d-630592629e69"
      },
      "source": [
        "df.shape"
      ],
      "execution_count": 40,
      "outputs": [
        {
          "output_type": "execute_result",
          "data": {
            "text/plain": [
              "(450385, 19)"
            ]
          },
          "metadata": {
            "tags": []
          },
          "execution_count": 40
        }
      ]
    },
    {
      "cell_type": "code",
      "metadata": {
        "id": "QNk3Uj7Z54yh"
      },
      "source": [
        "df2 = df.to_dict('records')"
      ],
      "execution_count": 41,
      "outputs": []
    },
    {
      "cell_type": "code",
      "metadata": {
        "id": "M0zKSnwI3Aq1"
      },
      "source": [
        "#df.isna().sum()"
      ],
      "execution_count": 38,
      "outputs": []
    },
    {
      "cell_type": "code",
      "metadata": {
        "id": "eOs8VY_Z3_D2"
      },
      "source": [
        "#df= df.dropna()\r\n",
        "#Not applicable for ES"
      ],
      "execution_count": 39,
      "outputs": []
    },
    {
      "cell_type": "code",
      "metadata": {
        "id": "asUo2Wl7u-KD"
      },
      "source": [
        "#es.indices.create(index='test-index', ignore=400)\r\n",
        "#es.indices.create(index='test-index1', ignore=400)"
      ],
      "execution_count": null,
      "outputs": []
    },
    {
      "cell_type": "code",
      "metadata": {
        "colab": {
          "base_uri": "https://localhost:8080/"
        },
        "id": "6aKF75hbJa-T",
        "outputId": "409af91a-6dfb-42f7-b67d-1e1d5e9dd68c"
      },
      "source": [
        "es.ping()"
      ],
      "execution_count": 49,
      "outputs": [
        {
          "output_type": "execute_result",
          "data": {
            "text/plain": [
              "True"
            ]
          },
          "metadata": {
            "tags": []
          },
          "execution_count": 49
        }
      ]
    },
    {
      "cell_type": "markdown",
      "metadata": {
        "id": "07EgTdqwJTCh"
      },
      "source": [
        "#FINAL CODE"
      ]
    },
    {
      "cell_type": "markdown",
      "metadata": {
        "id": "TTAeWgt_IfL0"
      },
      "source": [
        "#Preprocessing the metadata set"
      ]
    },
    {
      "cell_type": "code",
      "metadata": {
        "id": "r-JtuG1hHDtg"
      },
      "source": [
        "class Reader(object):\r\n",
        "\r\n",
        "    def __init__(self,filename,size, indexName='chords'):\r\n",
        "        self.filename=filename\r\n",
        "        self.size=size\r\n",
        "        self.indexName =indexName\r\n",
        "\r\n"
      ],
      "execution_count": 55,
      "outputs": []
    },
    {
      "cell_type": "markdown",
      "metadata": {
        "id": "1RMy9FGRHT7j"
      },
      "source": [
        "##Obtain, read, selecting 1000 files, convert to json and Removing NaNs "
      ]
    },
    {
      "cell_type": "code",
      "metadata": {
        "id": "2NxNfA8NHLNJ"
      },
      "source": [
        "    def process(self):\r\n",
        "        df = pd.read_csv(self.filename, chunksize=self.size)\r\n",
        "        df = next(df)\r\n",
        "        df2 = df.to_dict(\"records\")\r\n",
        "        df2 = self.removeNan(df2=df2)\r\n",
        "        return df2\r\n"
      ],
      "execution_count": 56,
      "outputs": []
    },
    {
      "cell_type": "markdown",
      "metadata": {
        "id": "W_VN_G4jHo3a"
      },
      "source": [
        "##Removing NaNs for every field column and ELK formatting generator"
      ]
    },
    {
      "cell_type": "code",
      "metadata": {
        "id": "ySUqB8RjHrMH"
      },
      "source": [
        "    def create_columns(self, record, column_name):\r\n",
        "        value = record.get(column_name, \"\").__str__()\r\n",
        "        if len(column_name) == 0 or column_name == \"\": value = \"\"\r\n",
        "        if 'nan' in value: value = \"\"\r\n",
        "\r\n",
        "        return value\r\n"
      ],
      "execution_count": null,
      "outputs": []
    },
    {
      "cell_type": "code",
      "metadata": {
        "id": "aTdHY_XVH6KD"
      },
      "source": [
        "def removeNan(self, df2):\r\n",
        "        records = []\r\n",
        "        for c, x in enumerate(df2):\r\n",
        "            jsonRecord = {}\r\n",
        "            jsonRecord['cord_uid']          = self.create_columns(record=x, column_name='cord_uid')\r\n",
        "            jsonRecord['sha']               = self.create_columns(record=x, column_name='sha')\r\n",
        "            jsonRecord['source_x']          =self.create_columns(record=x, column_name='source_x')\r\n",
        "            jsonRecord['title']             =self.create_columns(record=x, column_name='title')\r\n",
        "            jsonRecord['doi']               =self.create_columns(record=x, column_name='doi')\r\n",
        "            jsonRecord['pmcid']             =self.create_columns(record=x, column_name='pmcid')\r\n",
        "            jsonRecord['pubmed_id']         =self.create_columns(record=x, column_name='pubmed_id')\r\n",
        "            jsonRecord['license']           =self.create_columns(record=x, column_name='license')\r\n",
        "            jsonRecord['abstract']          =self.create_columns(record=x, column_name='abstract')\r\n",
        "            jsonRecord['publish_time']      =self.create_columns(record=x, column_name='publish_time')\r\n",
        "            jsonRecord['authors']           =self.create_columns(record=x, column_name='authors')\r\n",
        "            jsonRecord['journal']           =self.create_columns(record=x, column_name='journal')\r\n",
        "            jsonRecord['mag_id']            =self.create_columns(record=x, column_name='mag_id')\r\n",
        "            jsonRecord['who_covidence_id']  =self.create_columns(record=x, column_name='who_covidence_id')\r\n",
        "            jsonRecord['arxiv_id']          =self.create_columns(record=x, column_name='arxiv_id')\r\n",
        "            jsonRecord['pdf_json_files']    =self.create_columns(record=x, column_name='pdf_json_files')\r\n",
        "            jsonRecord['pmc_json_files']    =self.create_columns(record=x, column_name='pmc_json_files')\r\n",
        "            jsonRecord['url']               =self.create_columns(record=x, column_name='url')\r\n",
        "            jsonRecord['s2_id']             =self.create_columns(record=x, column_name='s2_id')\r\n",
        "            json_elk_format = {\r\n",
        "                '_index': self.indexName,\r\n",
        "                '_type': '_doc',\r\n",
        "                '_id': c,\r\n",
        "                '_source': jsonRecord\r\n",
        "            }\r\n",
        "            records.append(json_elk_format)\r\n",
        "        return records"
      ],
      "execution_count": 58,
      "outputs": []
    },
    {
      "cell_type": "markdown",
      "metadata": {
        "id": "Us4Y55-VLw0y"
      },
      "source": [
        "##Stemming Analysis on document"
      ]
    },
    {
      "cell_type": "code",
      "metadata": {
        "id": "7NJzIPMTLROq"
      },
      "source": [
        "def stemm_docs(data):\r\n",
        "  stemmer= porterstemmer()\r\n",
        "  stemmed_list = [stemmer_stem(word) for word in data]\r\n",
        "  return stemmed_list"
      ],
      "execution_count": 59,
      "outputs": []
    },
    {
      "cell_type": "markdown",
      "metadata": {
        "id": "YAIoCYI_IWo-"
      },
      "source": [
        "##Load to preprocessed documents to Elasticsearch"
      ]
    },
    {
      "cell_type": "code",
      "metadata": {
        "id": "NCD4blbvJnOK"
      },
      "source": [
        "def main():\r\n",
        "\r\n",
        "    _helper = Reader(filename='metadata.csv', size=1000, indexName='cords')\r\n",
        "    _data = _helper.process()\r\n",
        "\r\n",
        "    ENDPOINT = \"http://localhost:9200/\"\r\n",
        "    es = Elasticsearch(timeout=600,hosts=ENDPOINT)\r\n",
        "\r\n",
        "    try:\r\n",
        "        res = helpers.bulk(es, _data)\r\n",
        "    except Exception as e:\r\n",
        "        pass\r\n",
        "    print('done')\r\n",
        "\r\n",
        "\r\n",
        "main()\r\n"
      ],
      "execution_count": null,
      "outputs": []
    },
    {
      "cell_type": "markdown",
      "metadata": {
        "id": "Uh3y4ETIvvWe"
      },
      "source": [
        "#Full code block in one cell"
      ]
    },
    {
      "cell_type": "code",
      "metadata": {
        "colab": {
          "base_uri": "https://localhost:8080/"
        },
        "id": "cwGG-A4ZiTae",
        "outputId": "956da1ac-758a-4122-e1bd-38ea63945e19"
      },
      "source": [
        "try:\r\n",
        "    import elasticsearch\r\n",
        "\r\n",
        "    from elasticsearch import Elasticsearch\r\n",
        "    from elasticsearch import helpers\r\n",
        "\r\n",
        "    import pandas as pd\r\n",
        "    import json\r\n",
        "\r\n",
        "    import datetime\r\n",
        "    import os\r\n",
        "    import sys\r\n",
        "\r\n",
        "    import os\r\n",
        "    import numpy as np\r\n",
        "\r\n",
        "    print(\"Loaded  .. . . . . . . .\")\r\n",
        "except Exception as E:\r\n",
        "    print(\"Some Modules are Missing {} \".format(e))\r\n",
        "\r\n",
        "class Reader(object):\r\n",
        "\r\n",
        "    def __init__(self,filename,size, indexName='cords'):\r\n",
        "        self.filename=filename\r\n",
        "        self.size=size\r\n",
        "        self.indexName =indexName\r\n",
        "\r\n",
        "    def process(self):\r\n",
        "        df = pd.read_csv(self.filename, chunksize=self.size)\r\n",
        "        df = next(df)\r\n",
        "        df2 = df.to_dict(\"records\")\r\n",
        "        df2 = self.removeNan(df2=df2)\r\n",
        "        return df2\r\n",
        "\r\n",
        "    def create_columns(self, record, column_name):\r\n",
        "        value = record.get(column_name, \"\").__str__()\r\n",
        "        if len(column_name) == 0 or column_name == \"\": value = \"\"\r\n",
        "        if 'nan' in value: value = \"\"\r\n",
        "\r\n",
        "        return value\r\n",
        "\r\n",
        "    def removeNan(self, df2):\r\n",
        "        records = []\r\n",
        "        for c, x in enumerate(df2):\r\n",
        "            jsonRecord = {}\r\n",
        "            jsonRecord['cord_uid']          = self.create_columns(record=x, column_name='cord_uid')\r\n",
        "            jsonRecord['sha']               = self.create_columns(record=x, column_name='sha')\r\n",
        "            jsonRecord['source_x']          =self.create_columns(record=x, column_name='source_x')\r\n",
        "            jsonRecord['title']             =self.create_columns(record=x, column_name='title')\r\n",
        "            jsonRecord['doi']               =self.create_columns(record=x, column_name='doi')\r\n",
        "            jsonRecord['pmcid']             =self.create_columns(record=x, column_name='pmcid')\r\n",
        "            jsonRecord['pubmed_id']         =self.create_columns(record=x, column_name='pubmed_id')\r\n",
        "            jsonRecord['license']           =self.create_columns(record=x, column_name='license')\r\n",
        "            jsonRecord['abstract']          =self.create_columns(record=x, column_name='abstract')\r\n",
        "            jsonRecord['publish_time']      =self.create_columns(record=x, column_name='publish_time')\r\n",
        "            jsonRecord['authors']           =self.create_columns(record=x, column_name='authors')\r\n",
        "            jsonRecord['journal']           =self.create_columns(record=x, column_name='journal')\r\n",
        "            jsonRecord['mag_id']            =self.create_columns(record=x, column_name='mag_id')\r\n",
        "            jsonRecord['who_covidence_id']  =self.create_columns(record=x, column_name='who_covidence_id')\r\n",
        "            jsonRecord['arxiv_id']          =self.create_columns(record=x, column_name='arxiv_id')\r\n",
        "            jsonRecord['pdf_json_files']    =self.create_columns(record=x, column_name='pdf_json_files')\r\n",
        "            jsonRecord['pmc_json_files']    =self.create_columns(record=x, column_name='pmc_json_files')\r\n",
        "            jsonRecord['url']               =self.create_columns(record=x, column_name='url')\r\n",
        "            jsonRecord['s2_id']             =self.create_columns(record=x, column_name='s2_id')\r\n",
        "            json_elk_format = {\r\n",
        "                '_index': self.indexName,\r\n",
        "                '_type': '_doc',\r\n",
        "                '_id': c,\r\n",
        "                '_source': jsonRecord\r\n",
        "            }\r\n",
        "            records.append(json_elk_format)\r\n",
        "        return records\r\n",
        "\r\n",
        "\r\n",
        "def main():\r\n",
        "\r\n",
        "    _helper = Reader(filename='metadata.csv', size=1000, indexName='cords')\r\n",
        "    _data = _helper.process()\r\n",
        "\r\n",
        "    ENDPOINT = \"http://localhost:9200/\"\r\n",
        "    es = Elasticsearch(timeout=600,hosts=ENDPOINT)\r\n",
        "\r\n",
        "    try:\r\n",
        "        res = helpers.bulk(es, _data)\r\n",
        "    except Exception as e:\r\n",
        "        pass\r\n",
        "    print('done')\r\n",
        "\r\n",
        "\r\n",
        "main()\r\n",
        "\r\n"
      ],
      "execution_count": 52,
      "outputs": [
        {
          "output_type": "stream",
          "text": [
            "Loaded  .. . . . . . . .\n"
          ],
          "name": "stdout"
        },
        {
          "output_type": "stream",
          "text": [
            "/usr/local/lib/python3.7/dist-packages/elasticsearch/connection/base.py:200: ElasticsearchWarning: [types removal] Specifying types in bulk requests is deprecated.\n",
            "  warnings.warn(message, category=ElasticsearchWarning)\n"
          ],
          "name": "stderr"
        },
        {
          "output_type": "stream",
          "text": [
            "done\n"
          ],
          "name": "stdout"
        }
      ]
    }
  ]
}